{
 "cells": [
  {
   "cell_type": "code",
   "execution_count": 10,
   "metadata": {},
   "outputs": [],
   "source": [
    "import matplotlib.pyplot as plt\n",
    "import matplotlib"
   ]
  },
  {
   "cell_type": "code",
   "execution_count": 13,
   "metadata": {},
   "outputs": [],
   "source": [
    "def draw(lines):\n",
    "    x = [int(l.split()[3]) for l in lines]\n",
    "    y = [int(l.split()[7].split('.')[0]) for l in lines]\n",
    "    y2 = [float(l.split()[10].split('.')[0]) for l in lines]\n",
    "    fig, ax = plt.subplots()\n",
    "    ax.plot(x, y)\n",
    "    fig, ax = plt.subplots()\n",
    "    ax.plot(x, y2)\n",
    "    # fig.tight_layout()\n",
    "    #plt.savefig('line.png', bbox_inches='tight')"
   ]
  },
  {
   "cell_type": "code",
   "execution_count": 14,
   "metadata": {},
   "outputs": [
    {
     "data": {
      "image/png": "[encoded data removed]",
      "text/plain": [
       "<Figure size 432x288 with 1 Axes>"
      ]
     },
     "metadata": {},
     "output_type": "display_data"
    },
    {
     "data": {
      "image/png": "[encoded data removed]",
      "text/plain": [
       "<Figure size 432x288 with 1 Axes>"
      ]
     },
     "metadata": {},
     "output_type": "display_data"
    }
   ],
   "source": [
    "# 2f6f2d1b89627bd33636d0662b0970cdf268d510 commit\n",
    "file_path = '2_layer_200each_rmpsprop_1e-3/nohup.out'\n",
    "with open(file_path, 'r') as f:\n",
    "     draw(f.readlines())"
   ]
  },
  {
   "cell_type": "code",
   "execution_count": 48,
   "metadata": {},
   "outputs": [],
   "source": [
    "\n",
    "import torch\n",
    "import numpy as np\n",
    "import torch.nn.functional as F"
   ]
  },
  {
   "cell_type": "code",
   "execution_count": 45,
   "metadata": {},
   "outputs": [],
   "source": [
    "conv1 = torch.nn.Conv2d(3, 16, kernel_size=8, stride=4)\n",
    "bn1 = torch.nn.BatchNorm2d(16)\n",
    "conv2 = torch.nn.Conv2d(16, 32, kernel_size=4, stride=2)\n",
    "bn2 = torch.nn.BatchNorm2d(32)\n",
    "linear_out = torch.nn.Linear(13824, 1)"
   ]
  },
  {
   "cell_type": "code",
   "execution_count": 54,
   "metadata": {},
   "outputs": [],
   "source": [
    "x = torch.rand(210,160,3)\n"
   ]
  },
  {
   "cell_type": "code",
   "execution_count": 53,
   "metadata": {},
   "outputs": [],
   "source": [
    "X = torch.FloatTensor(np.asarray(x.reshape(1, 3, 210 , 160)))\n",
    "\n",
    "a1 = F.relu(bn1(conv1(X)))\n",
    "a2 = F.relu(bn2(conv2(a1)))\n",
    "a3 = torch.sigmoid(linear_out(a2.view(a2.size(0), -1)))\n",
    "\n"
   ]
  },
  {
   "cell_type": "code",
   "execution_count": 52,
   "metadata": {},
   "outputs": [
    {
     "data": {
      "text/plain": [
       "tensor([[0.5145]], grad_fn=<SigmoidBackward>)"
      ]
     },
     "execution_count": 52,
     "metadata": {},
     "output_type": "execute_result"
    }
   ],
   "source": [
    "a3"
   ]
  },
  {
   "cell_type": "code",
   "execution_count": 55,
   "metadata": {},
   "outputs": [
    {
     "data": {
      "text/plain": [
       "tensor([[[0.7297, 0.7291, 0.3618],\n",
       "         [0.4229, 0.0836, 0.8815],\n",
       "         [0.6301, 0.0140, 0.2199],\n",
       "         ...,\n",
       "         [0.0343, 0.1238, 0.0324],\n",
       "         [0.5037, 0.7493, 0.5648],\n",
       "         [0.6270, 0.4461, 0.6716]],\n",
       "\n",
       "        [[0.7730, 0.2972, 0.3113],\n",
       "         [0.9390, 0.6873, 0.6122],\n",
       "         [0.1524, 0.4236, 0.7033],\n",
       "         ...,\n",
       "         [0.5897, 0.8889, 0.6837],\n",
       "         [0.3489, 0.3581, 0.2690],\n",
       "         [0.4690, 0.3113, 0.5916]],\n",
       "\n",
       "        [[0.8558, 0.7896, 0.9159],\n",
       "         [0.3898, 0.4753, 0.8736],\n",
       "         [0.2682, 0.0202, 0.3132],\n",
       "         ...,\n",
       "         [0.1254, 0.4402, 0.5124],\n",
       "         [0.2933, 0.0417, 0.5562],\n",
       "         [0.5719, 0.8116, 0.2232]],\n",
       "\n",
       "        ...,\n",
       "\n",
       "        [[0.4900, 0.6763, 0.4296],\n",
       "         [0.3429, 0.3377, 0.8301],\n",
       "         [0.3069, 0.4210, 0.6527],\n",
       "         ...,\n",
       "         [0.0247, 0.5244, 0.0559],\n",
       "         [0.4264, 0.4370, 0.0593],\n",
       "         [0.0854, 0.6931, 0.9666]],\n",
       "\n",
       "        [[0.1573, 0.3035, 0.6189],\n",
       "         [0.5126, 0.6884, 0.4546],\n",
       "         [0.8310, 0.8825, 0.8898],\n",
       "         ...,\n",
       "         [0.0214, 0.8079, 0.4485],\n",
       "         [0.4042, 0.6315, 0.9217],\n",
       "         [0.6437, 0.0269, 0.3958]],\n",
       "\n",
       "        [[0.6877, 0.8138, 0.8921],\n",
       "         [0.2780, 0.2384, 0.9849],\n",
       "         [0.6366, 0.5359, 0.9969],\n",
       "         ...,\n",
       "         [0.7051, 0.0061, 0.8107],\n",
       "         [0.5752, 0.7902, 0.9689],\n",
       "         [0.0630, 0.2031, 0.1625]]])"
      ]
     },
     "execution_count": 55,
     "metadata": {},
     "output_type": "execute_result"
    }
   ],
   "source": [
    "x"
   ]
  },
  {
   "cell_type": "code",
   "execution_count": null,
   "metadata": {},
   "outputs": [],
   "source": []
  }
 ],
 "metadata": {
  "kernelspec": {
   "display_name": "Python 3",
   "language": "python",
   "name": "python3"
  },
  "language_info": {
   "codemirror_mode": {
    "name": "ipython",
    "version": 3
   },
   "file_extension": ".py",
   "mimetype": "text/x-python",
   "name": "python",
   "nbconvert_exporter": "python",
   "pygments_lexer": "ipython3",
   "version": "3.7.1"
  }
 },
 "nbformat": 4,
 "nbformat_minor": 2
}
